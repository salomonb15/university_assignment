{
 "cells": [
  {
   "cell_type": "code",
   "execution_count": 2,
   "outputs": [
    {
     "name": "stdout",
     "output_type": "stream",
     "text": [
      "Manual seed changed successfully.\n"
     ]
    }
   ],
   "source": [
    "import os\n",
    "import random\n",
    "import numpy as np\n",
    "from collections import Counter\n",
    "from torch.utils.data import DataLoader, Dataset\n",
    "import math\n",
    "from typing import Tuple\n",
    "import torch\n",
    "from torch import nn, Tensor\n",
    "import torch.nn.functional as F\n",
    "from torch.nn import TransformerEncoder, TransformerEncoderLayer\n",
    "from torch.utils.data import dataset\n",
    "import matplotlib.pyplot as plt\n",
    "import torch.optim as optim\n",
    "\n",
    "\n",
    "def seed_everything(val):\n",
    "    \"\"\" For reproducibility - Seeds all relevant random generators to the same value. \"\"\"\n",
    "    random.seed(val)\n",
    "    os.environ['PYTHONHASHSEED'] = str(val)\n",
    "    np.random.seed(val)\n",
    "    torch.manual_seed(val)\n",
    "    torch.cuda.manual_seed(val)\n",
    "    torch.cuda.manual_seed_all(val)\n",
    "    torch.backends.cudnn.deterministic = True\n",
    "    print('Manual seed changed successfully.')\n",
    "\n",
    "\n",
    "\"\"\" DO NOT CHANGE THE SEED! \"\"\"\n",
    "seed = 42\n",
    "seed_everything(seed)\n",
    "\n",
    "\n",
    "\n",
    "\n",
    "\n"
   ],
   "metadata": {
    "collapsed": false
   }
  },
  {
   "cell_type": "code",
   "execution_count": 3,
   "outputs": [],
   "source": [
    "from collections import Counter\n",
    "from torch.utils.data import Dataset\n",
    "\n",
    "class Corpus(Dataset):\n",
    "    def __init__(self, file_name):\n",
    "        self.words = self.load_words(file_name)\n",
    "        self.uniq_words = self.get_uniq_words()\n",
    "        self.create_mappings()\n",
    "\n",
    "    def load_words(self, file_name):\n",
    "        with open(file_name, encoding='utf_8') as file:\n",
    "            text = file.read().replace('\\n', '<eos>')\n",
    "        return text.split(' ')\n",
    "\n",
    "    def get_uniq_words(self):\n",
    "        word_counts = Counter(self.words)\n",
    "        return sorted(word_counts, key=word_counts.get, reverse=True)\n",
    "\n",
    "    def create_mappings(self):\n",
    "        self.index_to_word = {index: word for index, word in enumerate(self.uniq_words)}\n",
    "        self.word_to_index = {word: index for index, word in enumerate(self.uniq_words)}\n",
    "\n",
    "    def process_sequence(self, words):\n",
    "        processed_sequence = torch.tensor([self.word_to_index[word] for word in words])\n",
    "        return processed_sequence\n",
    "\n",
    "    def __getitem__(self, index):\n",
    "        return self.process_sequence(self.words[index])\n",
    "\n",
    "    def __len__(self):\n",
    "        return len(self.words)\n",
    "\n",
    "def batchify(data, batch_size):\n",
    "    seq_len = len(data) // batch_size\n",
    "    data = data[:seq_len * batch_size]\n",
    "    data = data.view(batch_size, seq_len).t().contiguous()\n",
    "    device = torch.device('cuda' if torch.cuda.is_available() else 'cpu')\n",
    "    return data.to(device)"
   ],
   "metadata": {
    "collapsed": false
   }
  },
  {
   "cell_type": "code",
   "execution_count": 4,
   "outputs": [],
   "source": [
    "train_dataset = Corpus('wikitext-2/wiki.train.tokens')\n",
    "valid_dataset = Corpus('wikitext-2/wiki.valid.tokens')\n",
    "test_dataset = Corpus('wikitext-2/wiki.test.tokens')\n",
    "\n",
    "train_data = train_dataset.process_sequence(train_dataset.words, train_dataset.word_to_index)\n",
    "val_data = valid_dataset.process_sequence(valid_dataset.words, train_dataset.word_to_index)\n",
    "test_data = test_dataset.process_sequence(test_dataset.words, train_dataset.word_to_index)\n",
    "batch_size = 20\n",
    "eval_batch_size = 10\n",
    "train_data = batchify(train_data, batch_size)\n",
    "val_data = batchify(val_data, batch_size)\n",
    "test_data = batchify(test_data, batch_size)"
   ],
   "metadata": {
    "collapsed": false
   }
  },
  {
   "cell_type": "markdown",
   "metadata": {},
   "source": [
    "\n"
   ]
  },
  {
   "cell_type": "markdown",
   "metadata": {},
   "source": [
    "Define the model\n"
   ]
  },
  {
   "cell_type": "markdown",
   "metadata": {},
   "source": [
    "\n",
    "\n"
   ]
  },
  {
   "cell_type": "code",
   "execution_count": 5,
   "metadata": {
    "collapsed": false
   },
   "outputs": [],
   "source": [
    "import math\n",
    "from typing import Tuple\n",
    "\n",
    "import torch\n",
    "from torch import nn, Tensor\n",
    "import torch.nn.functional as F\n",
    "from torch.nn import TransformerEncoder, TransformerEncoderLayer\n",
    "from torch.utils.data import dataset\n",
    "\n",
    "class TransformerModel(nn.Module):\n",
    "\n",
    "    def __init__(self, ntoken: int, d_model: int, nhead: int, d_hid: int,\n",
    "                 nlayers: int, dropout: float = 0.5):\n",
    "        super().__init__()\n",
    "        self.model_type = 'Transformer'\n",
    "        self.pos_encoder = PositionalEncoding(d_model, dropout)\n",
    "        encoder_layers = TransformerEncoderLayer(d_model, nhead, d_hid, dropout)\n",
    "        self.transformer_encoder = TransformerEncoder(encoder_layers, nlayers)\n",
    "        self.encoder = nn.Embedding(ntoken, d_model)\n",
    "        self.d_model = d_model\n",
    "        self.decoder = nn.Linear(d_model, ntoken)\n",
    "\n",
    "\n",
    "\n",
    "\n",
    "        self.init_weights()\n",
    "\n",
    "    def init_weights(self) -> None:\n",
    "        initrange = 0.1\n",
    "        self.encoder.weight.data.uniform_(-initrange, initrange)\n",
    "        self.decoder.bias.data.zero_()\n",
    "        self.decoder.weight.data.uniform_(-initrange, initrange)\n",
    "\n",
    "    def forward(self, src: Tensor, src_mask: Tensor) -> Tensor:\n",
    "        src = self.encoder(src) * math.sqrt(self.d_model)\n",
    "        src = self.pos_encoder(src)\n",
    "        output = self.transformer_encoder(src, src_mask)\n",
    "        output = self.decoder(output)\n",
    "\n",
    "\n",
    "        return output\n",
    "\n",
    "\n",
    "def generate_square_subsequent_mask(sz: int) -> Tensor:\n",
    "    return torch.triu(torch.ones(sz, sz) * float('-inf'), diagonal=1)"
   ]
  },
  {
   "cell_type": "markdown",
   "metadata": {},
   "source": [
    "PositionalEncoding"
   ]
  },
  {
   "cell_type": "code",
   "execution_count": 6,
   "metadata": {
    "collapsed": false
   },
   "outputs": [],
   "source": [
    "class PositionalEncoding(nn.Module):\n",
    "\n",
    "    def __init__(self, d_model: int, dropout: float = 0.1, max_len: int = 5000):\n",
    "        super().__init__()\n",
    "        self.dropout = nn.Dropout(p=dropout)\n",
    "\n",
    "        position = torch.arange(max_len).unsqueeze(1)\n",
    "        div_term = torch.exp(torch.arange(0, d_model, 2) * (-math.log(10000.0) / d_model))\n",
    "        position_encoding = torch.zeros(max_len, 1, d_model)\n",
    "        position_encoding[:, 0, 0::2] = torch.sin(position * div_term)\n",
    "        position_encoding[:, 0, 1::2] = torch.cos(position * div_term)\n",
    "        self.register_buffer('position_encoding', position_encoding)\n",
    "\n",
    "    def forward(self, x: Tensor) -> Tensor:\n",
    "        x = x + self.position_encoding[:x.size(0)]\n",
    "        return self.dropout(x)"
   ]
  },
  {
   "cell_type": "markdown",
   "metadata": {},
   "source": [
    "## Load and batch data\n",
    "\n",
    "\n"
   ]
  },
  {
   "cell_type": "markdown",
   "metadata": {},
   "source": []
  },
  {
   "cell_type": "markdown",
   "metadata": {},
   "source": [
    "\n",
    "\n",
    "\n"
   ]
  },
  {
   "cell_type": "markdown",
   "metadata": {},
   "source": [
    "\n",
    "\n"
   ]
  },
  {
   "cell_type": "markdown",
   "metadata": {},
   "source": [
    "`\n",
    "\n",
    "\n"
   ]
  },
  {
   "cell_type": "code",
   "execution_count": 7,
   "metadata": {
    "collapsed": false
   },
   "outputs": [],
   "source": [
    "def get_batch(source: Tensor, i: int) -> Tuple[Tensor, Tensor]:\n",
    "    seq_len = min(bptt, len(source) - 1 - i)\n",
    "    data = source[i:i+seq_len]\n",
    "    target = source[i+1:i+1+seq_len].reshape(-1)\n",
    "    return data, target"
   ]
  },
  {
   "cell_type": "markdown",
   "metadata": {},
   "source": [
    " Initiate an instance"
   ]
  },
  {
   "cell_type": "code",
   "execution_count": 8,
   "metadata": {
    "collapsed": false
   },
   "outputs": [],
   "source": [
    "ntokens = len(train_dataset.uniq_words)\n",
    "emsize = 200\n",
    "d_hid = 200\n",
    "bptt = 35\n",
    "nlayers = 2\n",
    "dropout = 0.2\n",
    "nhead = 2\n",
    "device = torch.device('cuda' if torch.cuda.is_available() else 'cpu')\n",
    "model = TransformerModel(ntokens, emsize, nhead, d_hid, nlayers, dropout).to(device)"
   ]
  },
  {
   "cell_type": "markdown",
   "metadata": {},
   "source": [
    "Run the model"
   ]
  },
  {
   "cell_type": "code",
   "execution_count": 9,
   "metadata": {
    "collapsed": false
   },
   "outputs": [],
   "source": [
    "import copy\n",
    "import time\n",
    "\n",
    "criterion = nn.CrossEntropyLoss()\n",
    "lr = 5.0\n",
    "optimizer = torch.optim.SGD(model.parameters(), lr=lr)\n",
    "scheduler = torch.optim.lr_scheduler.StepLR(optimizer, 1.0, gamma=0.95)\n",
    "\n",
    "def train(model: nn.Module) -> None:\n",
    "    model.train()\n",
    "    total_loss = 0.\n",
    "    log_interval = 200\n",
    "    start_time = time.time()\n",
    "    src_mask = generate_square_subsequent_mask(bptt).to(device)\n",
    "\n",
    "    num_batches = len(train_data) // bptt\n",
    "    for batch, i in enumerate(range(0, train_data.size(0) - 1, bptt)):\n",
    "        data, targets = get_batch(train_data, i)\n",
    "        seq_len = data.size(0)\n",
    "        if seq_len != bptt:  # only on last batch\n",
    "            src_mask = src_mask[:seq_len, :seq_len]\n",
    "        output = model(data, src_mask)\n",
    "        loss = criterion(output.view(-1, ntokens), targets)\n",
    "\n",
    "        optimizer.zero_grad()\n",
    "        loss.backward()\n",
    "        torch.nn.utils.clip_grad_norm_(model.parameters(), 0.5)\n",
    "        optimizer.step()\n",
    "\n",
    "        total_loss += loss.item()\n",
    "        if batch % log_interval == 0 and batch > 0:\n",
    "            lr = scheduler.get_last_lr()[0]\n",
    "            ms_per_batch = (time.time() - start_time) * 1000 / log_interval\n",
    "            cur_loss = total_loss / log_interval\n",
    "            ppl = math.exp(cur_loss)\n",
    "            print(f'| epoch {epoch:3d} | {batch:5d}/{num_batches:5d} batches | '\n",
    "                  f'lr {lr:02.2f} | ms/batch {ms_per_batch:5.2f} | '\n",
    "                  f'loss {cur_loss:5.2f} | ppl {ppl:8.2f}')\n",
    "            total_loss = 0\n",
    "            start_time = time.time()\n",
    "\n",
    "def evaluate(model: nn.Module, eval_data: Tensor) -> float:\n",
    "    model.eval()  # turn on evaluation mode\n",
    "    total_loss = 0.\n",
    "    src_mask = generate_square_subsequent_mask(bptt).to(device)\n",
    "    with torch.no_grad():\n",
    "        for i in range(0, eval_data.size(0) - 1, bptt):\n",
    "            data, targets = get_batch(eval_data, i)\n",
    "            seq_len = data.size(0)\n",
    "            if seq_len != bptt:\n",
    "                src_mask = src_mask[:seq_len, :seq_len]\n",
    "            output = model(data, src_mask)\n",
    "            output_flat = output.view(-1, ntokens)\n",
    "            total_loss += seq_len * criterion(output_flat, targets).item()\n",
    "    return total_loss / (len(eval_data) - 1)"
   ]
  },
  {
   "cell_type": "markdown",
   "metadata": {},
   "source": [
    "Loop over epochs. Save the model if the validation loss is the best\n",
    "we've seen so far. Adjust the learning rate after each epoch.\n",
    "\n"
   ]
  },
  {
   "cell_type": "code",
   "execution_count": null,
   "metadata": {
    "collapsed": false,
    "pycharm": {
     "is_executing": true
    }
   },
   "outputs": [],
   "source": [
    "best_val_loss = float('inf')\n",
    "epochs = 1\n",
    "best_model = None\n",
    "l_train_ppl=[]\n",
    "l_val_ppl=[]\n",
    "l_epo=[]\n",
    "lr_old='-1'\n",
    "l_lr=[]\n",
    "for epoch in range(0, epochs ):\n",
    "    epoch_start_time = time.time()\n",
    "    train(model)\n",
    "    ###################\n",
    "    train_loss = evaluate(model, train_data)\n",
    "    train_ppl = math.exp(train_loss)\n",
    "    ############################\n",
    "    val_loss = evaluate(model, val_data)\n",
    "    val_ppl = math.exp(val_loss)\n",
    "    elapsed = time.time() - epoch_start_time\n",
    "    print('-' * 89)\n",
    "    print(f'| end of epoch {epoch:3d} | time: {elapsed:5.2f}s | '\n",
    "          f'valid loss {val_loss:5.2f} | valid ppl {val_ppl:8.2f}')\n",
    "    print('-' * 89)\n",
    "    ##########################\n",
    "    l_train_ppl.append(train_ppl)\n",
    "    l_val_ppl.append(val_ppl)\n",
    "    l_epo.append(epoch)\n",
    "\n",
    "\n",
    "    lr_new=scheduler.get_last_lr()[0]\n",
    "    if lr_new!= lr_old:\n",
    "        l_lr.append(lr_new)\n",
    "        lr_new=lr_old\n",
    "    else:\n",
    "        l_lr.append(0)\n",
    "\n",
    "    if val_loss < best_val_loss:\n",
    "        best_val_loss = val_loss\n",
    "        best_model = copy.deepcopy(model)\n",
    "\n",
    "    scheduler.step()"
   ]
  },
  {
   "cell_type": "markdown",
   "metadata": {},
   "source": [
    "Evaluate the best model on the test dataset"
   ]
  },
  {
   "cell_type": "code",
   "execution_count": 12,
   "metadata": {
    "collapsed": false
   },
   "outputs": [
    {
     "name": "stdout",
     "output_type": "stream",
     "text": [
      "=========================================================================================\n",
      "| End of training | test loss  5.82 | test ppl   335.42\n",
      "=========================================================================================\n"
     ]
    }
   ],
   "source": [
    "test_loss = evaluate(best_model, test_data)\n",
    "test_ppl = math.exp(test_loss)\n",
    "print('=' * 89)\n",
    "print(f'| End of training | test loss {test_loss:5.2f} | '\n",
    "      f'test ppl {test_ppl:8.2f}')\n",
    "print('=' * 89)"
   ]
  },
  {
   "cell_type": "code",
   "execution_count": null,
   "outputs": [],
   "source": [
    "path = 'trained_RNN.pt'\n",
    "torch.save(best_model.state_dict(), path)"
   ],
   "metadata": {
    "collapsed": false
   }
  },
  {
   "cell_type": "code",
   "execution_count": 13,
   "outputs": [
    {
     "data": {
      "text/plain": "<Figure size 640x480 with 1 Axes>",
      "image/png": "[encoded data removed]"
     },
     "metadata": {},
     "output_type": "display_data"
    }
   ],
   "source": [
    "from matplotlib.pylab import plt\n",
    "\n",
    "l_epo = list(map(lambda item: item - 1, l_epo))\n",
    "plt.plot(l_epo, l_train_ppl, label='Training ppl')\n",
    "plt.plot(l_epo, l_val_ppl, label='Validation Loss')\n",
    "plt.title('Training and Validation ppl')\n",
    "plt.xlabel('Epochs')\n",
    "plt.ylabel('ppl')\n",
    "for line in range(len(l_lr)):\n",
    "    plt.axvline(line, 0, l_lr[line],c='green', label=f'learning rate of {l_lr[line]}')\n",
    "plt.legend(loc='best')\n",
    "plt.show()"
   ],
   "metadata": {
    "collapsed": false
   }
  },
  {
   "cell_type": "code",
   "execution_count": 104,
   "outputs": [
    {
     "name": "stdout",
     "output_type": "stream",
     "text": [
      "Sentnce 0 is: mother and sister the care they needed\n",
      " and the predicted word is one of the followig:\n",
      "0 of\n",
      "1 and\n",
      "2 in\n",
      "3 is\n",
      "4 to\n",
      "5 was\n",
      "Sentnce 1 is: . However , the lottery was won\n",
      " and the predicted word is one of the followig:\n",
      "0 The\n",
      "1 In\n",
      "2 He\n",
      "3 It\n",
      "4 On\n",
      "5 A\n",
      "Sentnce 2 is: above the Gallery of Maps , which\n",
      " and the predicted word is one of the followig:\n",
      "0 a\n",
      "1 his\n",
      "2 the\n",
      "3 that\n",
      "4 this\n",
      "5 its\n"
     ]
    }
   ],
   "source": [
    "from torchtext.vocab import Vocab\n",
    "import random\n",
    "def predict_and_explore(model, dataset, seq_len,num_of_sentences):\n",
    "    model.eval()\n",
    "    l_sequenses=[]\n",
    "    i_p_words=[]\n",
    "    for i in range(num_of_sentences):\n",
    "\n",
    "        random_start = random.randint(0, len(dataset.index_to_word)-seq_len-1)\n",
    "        src_mask = generate_square_subsequent_mask(seq_len).to(device)\n",
    "        data = dataset.process_sequence(dataset.words,dataset.word_to_index)[random_start:random_start+seq_len]\n",
    "        output = model(data, src_mask)\n",
    "        logits = output[0][0]\n",
    "        sequenses = ' '.join(dataset.words[random_start:random_start+seq_len])\n",
    "        l_sequenses.append(sequenses)\n",
    "        print(f\"Sentnce {i} is: {sequenses}\")\n",
    "        print(f\" and the predicted word is one of the followig:\")\n",
    "        top_predictions, top_indices = torch.topk(logits, 20)\n",
    "        oo=0\n",
    "        for idx in top_indices:\n",
    "            if oo<6:\n",
    "                k=idx.item()\n",
    "                new_word=dataset.index_to_word[k]\n",
    "                if new_word.isalpha() and not  new_word in i_p_words:\n",
    "                    i_p_words.append(dataset.index_to_word[k])\n",
    "                    print(f\"{oo} {dataset.index_to_word[k]}\")\n",
    "                    oo=oo+1\n",
    "predict_and_explore(best_model, train_dataset, 7,3)"
   ],
   "metadata": {
    "collapsed": false
   }
  },
  {
   "cell_type": "code",
   "execution_count": 107,
   "outputs": [],
   "source": [
    "save_path = 'wikitext2_trained.pt'\n",
    "torch.save(best_model.state_dict(), save_path)\n",
    "ptb = TransformerModel(ntokens, emsize, nhead, d_hid, nlayers, dropout).to(device)\n",
    "ptb.load_state_dict(torch.load(save_path))\n",
    "for param in ptb.parameters():\n",
    "    param.requires_grad = False\n",
    "ptb.decoder = nn.Linear(ptb.decoder.in_features,len(train_dataset.uniq_words))\n",
    "ptb = ptb.to(device)\n",
    "PTB_train_dataset = Corpus('ptb.train.txt')\n",
    "PTB_valid_dataset = Corpus('ptb.valid.txt')\n",
    "PTB_test_dataset = Corpus('ptb.test.txt')\n",
    "\n",
    "PTB_train_data = train_dataset.process_sequence(PTB_train_dataset.words,PTB_train_dataset.word_to_index)\n",
    "PTB_val_data = valid_dataset.process_sequence(PTB_valid_dataset.words,PTB_valid_dataset.word_to_index)\n",
    "PTB_test_data = test_dataset.process_sequence(PTB_test_dataset.words,PTB_test_dataset.word_to_index)\n",
    "batch_size = 20\n",
    "eval_batch_size = 10\n",
    "PTB_train_data = batchify(PTB_train_data,batch_size)\n",
    "PTB_val_data = batchify(PTB_val_data,batch_size)\n",
    "PTB_test_data = batchify(PTB_test_data,batch_size)"
   ],
   "metadata": {
    "collapsed": false
   }
  },
  {
   "cell_type": "code",
   "execution_count": 108,
   "outputs": [],
   "source": [
    "PTB_mean_epoch_train_ppl=[]\n",
    "optimizer = torch.optim.SGD(ptb.decoder.parameters(), lr=lr)\n",
    "\n",
    "def PTB_train(model: nn.Module) -> None:\n",
    "    total_loss = 0.\n",
    "    log_interval = 200\n",
    "    start_time = time.time()\n",
    "    src_mask = generate_square_subsequent_mask(bptt).to(device)\n",
    "    train_ppl=[]\n",
    "    num_batches = len(PTB_train_data) // bptt\n",
    "    for batch, i in enumerate(range(0, PTB_train_data.size(0) - 1, bptt)):\n",
    "        data, targets = get_batch(PTB_train_data, i)\n",
    "        seq_len = data.size(0)\n",
    "        if seq_len != bptt:  # only on last batch\n",
    "            src_mask = src_mask[:seq_len, :seq_len]\n",
    "        output = model(data, src_mask)\n",
    "        loss = criterion(output.view(-1, ntokens), targets)\n",
    "\n",
    "        optimizer.zero_grad()\n",
    "        loss.backward()\n",
    "        torch.nn.utils.clip_grad_norm_(model.parameters(), 0.5)\n",
    "        optimizer.step()\n",
    "\n",
    "        total_loss += loss.item()\n",
    "        if batch % log_interval == 0 and batch > 0:\n",
    "            lr = scheduler.get_last_lr()[0]\n",
    "            ms_per_batch = (time.time() - start_time) * 1000 / log_interval\n",
    "            cur_loss = total_loss / log_interval\n",
    "            ppl = math.exp(cur_loss)\n",
    "            train_ppl.append(ppl)\n",
    "            print(f'| epoch {epoch:3d} | {batch:5d}/{num_batches:5d} batches | '\n",
    "                  f'lr {lr:02.2f} | ms/batch {ms_per_batch:5.2f} | '\n",
    "                  f'loss {cur_loss:5.2f} | ppl {ppl:8.2f}')\n",
    "            total_loss = 0\n",
    "            start_time = time.time()\n",
    "\n",
    "    PTB_mean_epoch_train_ppl.append(np.mean(train_ppl))"
   ],
   "metadata": {
    "collapsed": false
   }
  },
  {
   "cell_type": "code",
   "execution_count": null,
   "outputs": [],
   "source": [
    "PTB_best_val_loss = float('inf')\n",
    "epochs = 5\n",
    "PTB_best_model = None\n",
    "lr = 5.0\n",
    "scheduler = torch.optim.lr_scheduler.StepLR(optimizer, 1.0, gamma=0.95)\n",
    "\n",
    "PTB_val_ppl=[]\n",
    "\n",
    "for epoch in range(0, epochs):\n",
    "    epoch_start_time = time.time()\n",
    "    PTB_train(ptb)\n",
    "    val_loss = evaluate(ptb, PTB_val_data)\n",
    "    PTB_val_ppl.append(math.exp(val_loss))\n",
    "    elapsed = time.time() - epoch_start_time\n",
    "    print('-' * 89)\n",
    "    print(f'| end of epoch {epoch:3d} | time: {elapsed:5.2f}s | valid loss {val_loss:5.2f} | valid ppl {PTB_val_ppl[epoch]:8.2f}')\n",
    "    print('-' * 89)\n",
    "\n",
    "    if val_loss < PTB_best_val_loss:\n",
    "        PTB_best_val_loss = val_loss\n",
    "        PTB_best_model = copy.deepcopy(ptb)\n",
    "\n",
    "    scheduler.step()"
   ],
   "metadata": {
    "collapsed": false
   }
  },
  {
   "cell_type": "code",
   "execution_count": null,
   "outputs": [],
   "source": [
    "save_path = 'wikitext2_trained.pt'\n",
    "best_model=TransformerModel(ntokens, emsize, nhead, d_hid, nlayers, dropout).to(device)\n",
    "best_model.load_state_dict(torch.load(save_path))\n",
    "old_losss = evaluate(best_model, PTB_test_data)\n",
    "old_ppl = math.exp(old_losss)\n",
    "print('=' * 89)\n",
    "print(f'| Before training PTB head | test loss {old_losss:5.4f} | test ppl {old_ppl:8.4f}')\n",
    "print('=' * 89)"
   ],
   "metadata": {
    "collapsed": false
   }
  },
  {
   "cell_type": "code",
   "execution_count": null,
   "outputs": [],
   "source": [
    "test_loss = evaluate(PTB_best_model, PTB_test_data)\n",
    "test_ppl = math.exp(test_loss)\n",
    "print('=' * 89)\n",
    "print(f'| End of training PTB head | test loss {test_loss:5.4f} | test ppl {test_ppl:8.4f}')\n",
    "print('=' * 89)"
   ],
   "metadata": {
    "collapsed": false
   }
  }
 ],
 "metadata": {
  "kernelspec": {
   "display_name": "Python 3",
   "language": "python",
   "name": "python3"
  },
  "language_info": {
   "codemirror_mode": {
    "name": "ipython",
    "version": 3
   },
   "file_extension": ".py",
   "mimetype": "text/x-python",
   "name": "python",
   "nbconvert_exporter": "python",
   "pygments_lexer": "ipython3",
   "version": "3.10.8"
  }
 },
 "nbformat": 4,
 "nbformat_minor": 0
}
